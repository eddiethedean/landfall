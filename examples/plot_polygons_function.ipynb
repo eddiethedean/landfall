{
 "cells": [
  {
   "cell_type": "markdown",
   "id": "2ee0906b",
   "metadata": {},
   "source": [
    "# Simple Example"
   ]
  },
  {
   "cell_type": "code",
   "execution_count": 1,
   "id": "9ad19e9b",
   "metadata": {},
   "outputs": [],
   "source": [
    "from landfall import plot_polygons"
   ]
  },
  {
   "cell_type": "code",
   "execution_count": null,
   "id": "6362ee77",
   "metadata": {},
   "outputs": [],
   "source": [
    "p1 = [\n",
    "    (29.4375, -98.5046),\n",
    "    (29.4315, -98.5069),\n",
    "    (29.4319, -98.4912),\n",
    "    (29.4375, -98.5046)\n",
    "]\n",
    "p2 = [\n",
    "    (29.42616837100093, -98.49128992936804),\n",
    "    (29.426616915779, -98.47669871280897),\n",
    "    (29.43454088023666, -98.48922999291263),\n",
    "    ()\n",
    "]"
   ]
  }
 ],
 "metadata": {
  "kernelspec": {
   "display_name": "Python 3 (ipykernel)",
   "language": "python",
   "name": "python3"
  },
  "language_info": {
   "codemirror_mode": {
    "name": "ipython",
    "version": 3
   },
   "file_extension": ".py",
   "mimetype": "text/x-python",
   "name": "python",
   "nbconvert_exporter": "python",
   "pygments_lexer": "ipython3",
   "version": "3.8.12"
  }
 },
 "nbformat": 4,
 "nbformat_minor": 5
}
