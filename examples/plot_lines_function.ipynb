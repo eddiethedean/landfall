{
 "cells": [
  {
   "cell_type": "markdown",
   "metadata": {},
   "source": [
    "# Landfall Line Plotting Examples\n",
    "\n",
    "This notebook demonstrates the new line plotting functionality in landfall v0.4.0.\n"
   ]
  },
  {
   "cell_type": "code",
   "execution_count": null,
   "metadata": {},
   "outputs": [],
   "source": [
    "import landfall"
   ]
  },
  {
   "cell_type": "markdown",
   "metadata": {},
   "source": [
    "## Basic Line Plotting\n"
   ]
  },
  {
   "cell_type": "code",
   "execution_count": null,
   "metadata": {},
   "outputs": [],
   "source": [
    "# Define a simple route\n",
    "route = [\n",
    "    (27.88, -82.49),  # Start\n",
    "    (27.92, -82.46),  # Waypoint 1\n",
    "    (27.94, -82.44),  # Waypoint 2\n",
    "    (27.96, -82.42),  # End\n",
    "]\n",
    "\n",
    "# Plot the route\n",
    "image = landfall.plot_line(route, color=\"red\", width=3)\n",
    "image"
   ]
  }
 ],
 "metadata": {
  "language_info": {
   "name": "python"
  }
 },
 "nbformat": 4,
 "nbformat_minor": 2
}
